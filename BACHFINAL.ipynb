{
  "nbformat": 4,
  "nbformat_minor": 0,
  "metadata": {
    "colab": {
      "provenance": [],
      "authorship_tag": "ABX9TyPcBXi6hqe2Sm1bIYaAFlhO",
      "include_colab_link": true
    },
    "kernelspec": {
      "name": "python3",
      "display_name": "Python 3"
    },
    "language_info": {
      "name": "python"
    }
  },
  "cells": [
    {
      "cell_type": "markdown",
      "metadata": {
        "id": "view-in-github",
        "colab_type": "text"
      },
      "source": [
        "<a href=\"https://colab.research.google.com/github/mariumnour/Project-1/blob/main/BACHFINAL.ipynb\" target=\"_parent\"><img src=\"https://colab.research.google.com/assets/colab-badge.svg\" alt=\"Open In Colab\"/></a>"
      ]
    },
    {
      "cell_type": "code",
      "execution_count": 1,
      "metadata": {
        "colab": {
          "base_uri": "https://localhost:8080/"
        },
        "id": "K9WM6wdz6vVA",
        "outputId": "48330d7a-5a5a-4372-fb71-7821f1fa212d"
      },
      "outputs": [
        {
          "output_type": "stream",
          "name": "stdout",
          "text": [
            "Mounted at /content/drive\n"
          ]
        },
        {
          "output_type": "stream",
          "name": "stderr",
          "text": [
            "<ipython-input-1-4a1e7a3fc901>:46: SettingWithCopyWarning: \n",
            "A value is trying to be set on a copy of a slice from a DataFrame.\n",
            "Try using .loc[row_indexer,col_indexer] = value instead\n",
            "\n",
            "See the caveats in the documentation: https://pandas.pydata.org/pandas-docs/stable/user_guide/indexing.html#returning-a-view-versus-a-copy\n",
            "  df[col] = pd.factorize(df[col])[0]\n",
            "<ipython-input-1-4a1e7a3fc901>:46: SettingWithCopyWarning: \n",
            "A value is trying to be set on a copy of a slice from a DataFrame.\n",
            "Try using .loc[row_indexer,col_indexer] = value instead\n",
            "\n",
            "See the caveats in the documentation: https://pandas.pydata.org/pandas-docs/stable/user_guide/indexing.html#returning-a-view-versus-a-copy\n",
            "  df[col] = pd.factorize(df[col])[0]\n",
            "<ipython-input-1-4a1e7a3fc901>:46: SettingWithCopyWarning: \n",
            "A value is trying to be set on a copy of a slice from a DataFrame.\n",
            "Try using .loc[row_indexer,col_indexer] = value instead\n",
            "\n",
            "See the caveats in the documentation: https://pandas.pydata.org/pandas-docs/stable/user_guide/indexing.html#returning-a-view-versus-a-copy\n",
            "  df[col] = pd.factorize(df[col])[0]\n",
            "<ipython-input-1-4a1e7a3fc901>:46: SettingWithCopyWarning: \n",
            "A value is trying to be set on a copy of a slice from a DataFrame.\n",
            "Try using .loc[row_indexer,col_indexer] = value instead\n",
            "\n",
            "See the caveats in the documentation: https://pandas.pydata.org/pandas-docs/stable/user_guide/indexing.html#returning-a-view-versus-a-copy\n",
            "  df[col] = pd.factorize(df[col])[0]\n"
          ]
        }
      ],
      "source": [
        "# Mount Google Drive to access the CSV files\n",
        "from google.colab import drive\n",
        "drive.mount('/content/drive')\n",
        "\n",
        "# Import necessary libraries\n",
        "import pandas as pd\n",
        "import numpy as np\n",
        "from sklearn.model_selection import train_test_split\n",
        "\n",
        "# Define the path of the folder containing the CSV files on Google Drive\n",
        "folder_path = '/content/drive/MyDrive/datasets'\n",
        "\n",
        "# Define the list of CSV files to load\n",
        "file_names = ['02-14-2018.csv',\n",
        "              '02-15-2018.csv',\n",
        "              '02-16-2018.csv',\n",
        "              '02-20-2018.csv',\n",
        "              '02-21-2018.csv',\n",
        "              '02-22-2018.csv',\n",
        "              '02-23-2018.csv',\n",
        "              '02-28-2018.csv',\n",
        "              '03-01-2018.csv',\n",
        "              '03-02-2018.csv']\n",
        "\n",
        "# Load each CSV file into a dataframe, clean it, and split it into train and test sets\n",
        "train_dfs = []\n",
        "test_dfs = []\n",
        "for file_name in file_names:\n",
        "    file_path = f'{folder_path}/{file_name}'\n",
        "    df = pd.read_csv(file_path, low_memory=False)\n",
        "    \n",
        "    # Remove rows with missing or invalid values\n",
        "    df = df.replace([np.inf, -np.inf], np.nan)\n",
        "    df = df.dropna()\n",
        "    \n",
        "    # Drop columns with constant or near-constant values\n",
        "    constant_cols = [col for col in df.columns if df[col].nunique() <= 1]\n",
        "    df = df.drop(constant_cols, axis=1)\n",
        "    \n",
        "    # Drop rows with duplicated values\n",
        "    df = df.drop_duplicates()\n",
        "\n",
        "    # Convert categorical features to numerical features\n",
        "    cat_cols = [col for col in df.columns if col != 'Label' and df[col].dtype == 'object']\n",
        "    for col in cat_cols:\n",
        "        df[col] = pd.factorize(df[col])[0]\n",
        "    \n",
        "    # Split the dataframe into train and test sets\n",
        "    train_df, test_df = train_test_split(df, test_size=0.2, random_state=42)\n",
        "    \n",
        "    train_dfs.append(train_df)\n",
        "    test_dfs.append(test_df)\n",
        "\n",
        "# Concatenate all the train and test dataframes\n",
        "train_df = pd.concat(train_dfs, axis=0)\n",
        "test_df = pd.concat(test_dfs, axis=0)\n",
        "\n",
        "# Save the new train and test dataframes to CSV files in your Google Drive\n",
        "#train_df.to_csv('/content/drive/MyDrive/path/to/new_train_file.csv', index=False)\n",
        "#test_df.to_csv('/content/drive/MyDrive/path/to/new_test_file.csv', index=False)"
      ]
    },
    {
      "cell_type": "code",
      "source": [
        "# Print the label column\n",
        "print(train_df['Label'])\n",
        "\n",
        "# Identify the names and numbers of each attack\n",
        "attack_names = train_df['Label'].unique()\n",
        "attack_numbers = train_df['Label'].value_counts()\n",
        "\n",
        "print(\"Attack Names:\")\n",
        "for name in attack_names:\n",
        "    print(name)\n",
        "\n",
        "print(\"\\nAttack Numbers:\")\n",
        "print(attack_numbers)\n"
      ],
      "metadata": {
        "colab": {
          "base_uri": "https://localhost:8080/"
        },
        "id": "7s9osjKg64OH",
        "outputId": "f314d712-17f1-4a57-e629-5e0fb3017a3c"
      },
      "execution_count": 2,
      "outputs": [
        {
          "output_type": "stream",
          "name": "stdout",
          "text": [
            "358356    SSH-Bruteforce\n",
            "519437            Benign\n",
            "511210            Benign\n",
            "438524            Benign\n",
            "529818            Benign\n",
            "               ...      \n",
            "326327               Bot\n",
            "444637            Benign\n",
            "159381            Benign\n",
            "177947               Bot\n",
            "146532               Bot\n",
            "Name: Label, Length: 3087414, dtype: object\n",
            "Attack Names:\n",
            "SSH-Bruteforce\n",
            "Benign\n",
            "FTP-BruteForce\n",
            "DoS attacks-GoldenEye\n",
            "DoS attacks-Slowloris\n",
            "DoS attacks-Hulk\n",
            "DoS attacks-SlowHTTPTest\n",
            "DDoS attacks-LOIC-HTTP\n",
            "DDOS attack-HOIC\n",
            "DDOS attack-LOIC-UDP\n",
            "Brute Force -Web\n",
            "SQL Injection\n",
            "Brute Force -XSS\n",
            "Infilteration\n",
            "Label\n",
            "Bot\n",
            "\n",
            "Attack Numbers:\n",
            "Benign                      2065182\n",
            "DDOS attack-HOIC             342679\n",
            "Bot                          167222\n",
            "DoS attacks-Hulk             159269\n",
            "Infilteration                128777\n",
            "SSH-Bruteforce                93886\n",
            "DDoS attacks-LOIC-HTTP        39936\n",
            "DoS attacks-GoldenEye         33189\n",
            "FTP-BruteForce                31380\n",
            "DoS attacks-SlowHTTPTest      15603\n",
            "DoS attacks-Slowloris          8172\n",
            "DDOS attack-LOIC-UDP           1375\n",
            "Brute Force -Web                491\n",
            "Brute Force -XSS                186\n",
            "SQL Injection                    66\n",
            "Label                             1\n",
            "Name: Label, dtype: int64\n"
          ]
        }
      ]
    },
    {
      "cell_type": "code",
      "source": [
        "import matplotlib.pyplot as plt\n",
        "\n",
        "# Identify the names and numbers of each attack in the training dataset\n",
        "train_attack_names = train_df['Label'].unique()\n",
        "train_attack_numbers = train_df['Label'].value_counts()\n",
        "\n",
        "# Identify the names and numbers of each attack in the testing dataset\n",
        "test_attack_names = test_df['Label'].unique()\n",
        "test_attack_numbers = test_df['Label'].value_counts()\n",
        "\n",
        "# Combine the attack information from both datasets\n",
        "combined_attack_names = list(set(train_attack_names) | set(test_attack_names))\n",
        "combined_attack_numbers = {name: train_attack_numbers.get(name, 0) + test_attack_numbers.get(name, 0) for name in combined_attack_names}\n",
        "\n",
        "# Create a bar plot of combined attack numbers\n",
        "plt.bar(combined_attack_names, combined_attack_numbers.values())\n",
        "plt.xlabel('Attack Names')\n",
        "plt.ylabel('Count')\n",
        "plt.title('Combined Attack Distribution')\n",
        "plt.xticks(rotation=90)  # Rotate x-axis labels by 90 degrees\n",
        "plt.tight_layout()  # Adjust the layout to prevent overlapping\n",
        "plt.show()\n"
      ],
      "metadata": {
        "colab": {
          "base_uri": "https://localhost:8080/",
          "height": 487
        },
        "id": "9T4H6mD-7-XP",
        "outputId": "ce6dd1a0-1bff-4d8e-a36f-4a1e660b62b0"
      },
      "execution_count": 3,
      "outputs": [
        {
          "output_type": "display_data",
          "data": {
            "text/plain": [
              "<Figure size 640x480 with 1 Axes>"
            ],
            "image/png": "[encoded data removed]"
          },
          "metadata": {}
        }
      ]
    },
    {
      "cell_type": "code",
      "source": [
        "# Define the mapping for label transformation\n",
        "label_mapping = {\n",
        "    'Benign': 'benign',\n",
        "    'DDOS attack-HOIC': 'intrusion',\n",
        "    'Bot': 'intrusion',\n",
        "    'DoS attacks-Hulk': 'intrusion',\n",
        "    'Infilteration': 'intrusion',\n",
        "    'SSH-Bruteforce': 'intrusion',\n",
        "    'DDoS attacks-LOIC-HTTP': 'intrusion',\n",
        "    'DoS attacks-GoldenEye': 'intrusion',\n",
        "    'FTP-BruteForce': 'intrusion',\n",
        "    'DoS attacks-SlowHTTPTest': 'intrusion',\n",
        "    'DoS attacks-Slowloris': 'intrusion',\n",
        "    'DDOS attack-LOIC-UDP': 'intrusion',\n",
        "    'Brute Force -Web': 'intrusion',\n",
        "    'Brute Force -XSS': 'intrusion',\n",
        "    'SQL Injection': 'intrusion'\n",
        "}\n",
        "\n",
        "# Transform the label column\n",
        "train_df['Label'] = train_df['Label'].map(label_mapping)\n",
        "test_df['Label'] = test_df['Label'].map(label_mapping)\n"
      ],
      "metadata": {
        "id": "NXg4Fg678DD8"
      },
      "execution_count": 4,
      "outputs": []
    },
    {
      "cell_type": "code",
      "source": [
        "# Print the modified \"Label\" column\n",
        "print(train_df['Label'])\n"
      ],
      "metadata": {
        "colab": {
          "base_uri": "https://localhost:8080/"
        },
        "id": "m2T49N6c8HUo",
        "outputId": "93ac6d14-dc4b-4b4d-85ef-9529849c35e3"
      },
      "execution_count": 5,
      "outputs": [
        {
          "output_type": "stream",
          "name": "stdout",
          "text": [
            "358356    intrusion\n",
            "519437       benign\n",
            "511210       benign\n",
            "438524       benign\n",
            "529818       benign\n",
            "            ...    \n",
            "326327    intrusion\n",
            "444637       benign\n",
            "159381       benign\n",
            "177947    intrusion\n",
            "146532    intrusion\n",
            "Name: Label, Length: 3087414, dtype: object\n"
          ]
        }
      ]
    },
    {
      "cell_type": "code",
      "source": [
        "# Replace 'Benign' with 0 and 'intrusion' with 1 in the \"Label\" column\n",
        "train_df['Label'] = train_df['Label'].replace({'benign': 0, 'intrusion': 1})\n",
        "test_df['Label'] = test_df['Label'].replace({'benign': 0, 'intrusion': 1})\n",
        "\n",
        "# Replace non-finite values (NaN or inf) with a default value (-1)\n",
        "train_df['Label'] = train_df['Label'].fillna(-1)\n",
        "test_df['Label'] = test_df['Label'].fillna(-1)\n",
        "\n",
        "# Convert the \"Label\" column to int type\n",
        "train_df['Label'] = train_df['Label'].astype(int)\n",
        "test_df['Label'] = test_df['Label'].astype(int)\n",
        "\n",
        "# Print the modified \"Label\" column\n",
        "print(train_df['Label'])\n"
      ],
      "metadata": {
        "colab": {
          "base_uri": "https://localhost:8080/"
        },
        "id": "B7zzfXZK8KJu",
        "outputId": "99fe17ac-e781-4d62-b392-945176bf986b"
      },
      "execution_count": 6,
      "outputs": [
        {
          "output_type": "stream",
          "name": "stdout",
          "text": [
            "358356    1\n",
            "519437    0\n",
            "511210    0\n",
            "438524    0\n",
            "529818    0\n",
            "         ..\n",
            "326327    1\n",
            "444637    0\n",
            "159381    0\n",
            "177947    1\n",
            "146532    1\n",
            "Name: Label, Length: 3087414, dtype: int64\n"
          ]
        }
      ]
    },
    {
      "cell_type": "code",
      "source": [
        "# Remove rows with Label = -1 from train_df\n",
        "train_df = train_df[train_df['Label'] != -1]\n",
        "\n",
        "# Remove rows with Label = -1 from test_df\n",
        "test_df = test_df[test_df['Label'] != -1]\n",
        "import numpy as np\n",
        "\n",
        "# Print the unique values in the \"Label\" column of train_df\n",
        "unique_labels_train = np.unique(train_df['Label'])\n",
        "print(\"Unique labels in train_df:\", unique_labels_train)\n",
        "\n",
        "# Print the unique values in the \"Label\" column of test_df\n",
        "unique_labels_test = np.unique(test_df['Label'])\n",
        "print(\"Unique labels in test_df:\", unique_labels_test)"
      ],
      "metadata": {
        "colab": {
          "base_uri": "https://localhost:8080/"
        },
        "id": "XEXcRxRz8MnH",
        "outputId": "af8ca20d-be5d-4cdc-c64a-d094d6099ad2"
      },
      "execution_count": 7,
      "outputs": [
        {
          "output_type": "stream",
          "name": "stdout",
          "text": [
            "Unique labels in train_df: [0 1]\n",
            "Unique labels in test_df: [0 1]\n"
          ]
        }
      ]
    },
    {
      "cell_type": "code",
      "source": [
        "# Convert the label column to integers\n",
        "train_df['Label'] = train_df['Label'].astype(int)\n",
        "\n",
        "# Count the occurrences of each label\n",
        "label_counts = train_df['Label'].value_counts()\n",
        "\n",
        "# Calculate the percentage of each label\n",
        "label_percentages = label_counts / len(train_df) * 100\n",
        "\n",
        "# Create a bar plot of the label counts and percentages\n",
        "plt.bar(label_counts.index, label_counts.values)\n",
        "plt.xlabel('Label')\n",
        "plt.ylabel('Count')\n",
        "plt.title('Label Distribution')\n",
        "\n",
        "# Set the x-ticks and labels\n",
        "plt.xticks(label_counts.index, ['benign', 'intrusion'])\n",
        "\n",
        "# Display the percentage values on the plot\n",
        "for i, v in enumerate(label_counts.values):\n",
        "    plt.text(i, v, f\"{v} ({label_percentages[i]:.1f}%)\", ha='center')\n",
        "\n",
        "plt.show()"
      ],
      "metadata": {
        "colab": {
          "base_uri": "https://localhost:8080/",
          "height": 472
        },
        "id": "63alyXXV8Q7-",
        "outputId": "296288cd-c618-47e4-d31f-285ef00462b9"
      },
      "execution_count": 8,
      "outputs": [
        {
          "output_type": "display_data",
          "data": {
            "text/plain": [
              "<Figure size 640x480 with 1 Axes>"
            ],
            "image/png": "[encoded data removed]"
          },
          "metadata": {}
        }
      ]
    },
    {
      "cell_type": "code",
      "source": [
        "print(train_df.isnull().sum())"
      ],
      "metadata": {
        "colab": {
          "base_uri": "https://localhost:8080/"
        },
        "id": "v1UW8Rm08YzU",
        "outputId": "46719dae-49b9-4b85-e97c-3b12f72a5f0e"
      },
      "execution_count": 9,
      "outputs": [
        {
          "output_type": "stream",
          "name": "stdout",
          "text": [
            "Dst Port                  0\n",
            "Protocol                  0\n",
            "Timestamp                 0\n",
            "Flow Duration             0\n",
            "Tot Fwd Pkts              0\n",
            "                     ...   \n",
            "Fwd Pkts/b Avg      2342019\n",
            "Fwd Blk Rate Avg    2342019\n",
            "Bwd Byts/b Avg      2342019\n",
            "Bwd Pkts/b Avg      2342019\n",
            "Bwd Blk Rate Avg    2342019\n",
            "Length: 80, dtype: int64\n"
          ]
        }
      ]
    },
    {
      "cell_type": "code",
      "source": [
        "# Check which columns have null values\n",
        "print(train_df.isnull().any())\n",
        "\n",
        "# Remove all rows with null values\n",
        "train_df.dropna(inplace=True)"
      ],
      "metadata": {
        "colab": {
          "base_uri": "https://localhost:8080/"
        },
        "id": "eItiDrhu8cIU",
        "outputId": "49dbb92e-831e-4b34-b761-0a6a3ed52873"
      },
      "execution_count": 10,
      "outputs": [
        {
          "output_type": "stream",
          "name": "stdout",
          "text": [
            "Dst Port            False\n",
            "Protocol            False\n",
            "Timestamp           False\n",
            "Flow Duration       False\n",
            "Tot Fwd Pkts        False\n",
            "                    ...  \n",
            "Fwd Pkts/b Avg       True\n",
            "Fwd Blk Rate Avg     True\n",
            "Bwd Byts/b Avg       True\n",
            "Bwd Pkts/b Avg       True\n",
            "Bwd Blk Rate Avg     True\n",
            "Length: 80, dtype: bool\n"
          ]
        }
      ]
    },
    {
      "cell_type": "code",
      "source": [
        "print(test_df.isnull().sum())"
      ],
      "metadata": {
        "colab": {
          "base_uri": "https://localhost:8080/"
        },
        "id": "NLuiXFV68e2A",
        "outputId": "cf2802cf-41e2-4806-b50d-c97be2b796a4"
      },
      "execution_count": 11,
      "outputs": [
        {
          "output_type": "stream",
          "name": "stdout",
          "text": [
            "Dst Port                 0\n",
            "Protocol                 0\n",
            "Timestamp                0\n",
            "Flow Duration            0\n",
            "Tot Fwd Pkts             0\n",
            "                     ...  \n",
            "Fwd Pkts/b Avg      585508\n",
            "Fwd Blk Rate Avg    585508\n",
            "Bwd Byts/b Avg      585508\n",
            "Bwd Pkts/b Avg      585508\n",
            "Bwd Blk Rate Avg    585508\n",
            "Length: 80, dtype: int64\n"
          ]
        }
      ]
    },
    {
      "cell_type": "code",
      "source": [
        "# Check which columns have null values\n",
        "print(test_df.isnull().any())\n",
        "\n",
        "# Remove all rows with null values\n",
        "test_df.dropna(inplace=True)"
      ],
      "metadata": {
        "colab": {
          "base_uri": "https://localhost:8080/"
        },
        "id": "S5CbL0Cg8hfi",
        "outputId": "30dd3081-fb46-4656-8930-b430b4b8d0c3"
      },
      "execution_count": 12,
      "outputs": [
        {
          "output_type": "stream",
          "name": "stdout",
          "text": [
            "Dst Port            False\n",
            "Protocol            False\n",
            "Timestamp           False\n",
            "Flow Duration       False\n",
            "Tot Fwd Pkts        False\n",
            "                    ...  \n",
            "Fwd Pkts/b Avg       True\n",
            "Fwd Blk Rate Avg     True\n",
            "Bwd Byts/b Avg       True\n",
            "Bwd Pkts/b Avg       True\n",
            "Bwd Blk Rate Avg     True\n",
            "Length: 80, dtype: bool\n"
          ]
        }
      ]
    },
    {
      "cell_type": "code",
      "source": [
        "display(train_df)"
      ],
      "metadata": {
        "colab": {
          "base_uri": "https://localhost:8080/",
          "height": 520
        },
        "id": "23bowvRo8kAz",
        "outputId": "8f50fa76-7233-4c76-95b6-13759547f50c"
      },
      "execution_count": 13,
      "outputs": [
        {
          "output_type": "display_data",
          "data": {
            "text/plain": [
              "        Dst Port  Protocol  Timestamp  Flow Duration  Tot Fwd Pkts  \\\n",
              "589852         3         1       8586       147680.0             2   \n",
              "388937         2         0       4494         7893.0            46   \n",
              "498659         0         0       9414         9684.0             2   \n",
              "221529        53         2      16070         8832.0            33   \n",
              "418805      3969         0       1439         1409.0            33   \n",
              "...          ...       ...        ...            ...           ...   \n",
              "122117        42         1        207        62017.0            39   \n",
              "262465      5722         3         68          719.0            39   \n",
              "134242         9         3        219        67195.0             0   \n",
              "149274        42         1        232         2276.0            39   \n",
              "124220        42         1        461         1088.0            39   \n",
              "\n",
              "        Tot Bwd Pkts  TotLen Fwd Pkts  TotLen Bwd Pkts  Fwd Pkt Len Max  \\\n",
              "589852             1                1              1.0                1   \n",
              "388937            11              209              1.0                9   \n",
              "498659             1               18              1.0               12   \n",
              "221529             2              357            922.0              114   \n",
              "418805             2                1              1.0                1   \n",
              "...              ...              ...              ...              ...   \n",
              "122117             3              226            759.0              125   \n",
              "262465             3                0              0.0                0   \n",
              "134242            14              620              0.0               21   \n",
              "149274             3              221           1058.0              158   \n",
              "124220             3              159            245.0              121   \n",
              "\n",
              "        Fwd Pkt Len Min  ...  Bwd PSH Flags  Fwd URG Flags  Bwd URG Flags  \\\n",
              "589852                0  ...            0.0            0.0            0.0   \n",
              "388937                0  ...            0.0            0.0            0.0   \n",
              "498659                0  ...            0.0            0.0            0.0   \n",
              "221529               12  ...            0.0            0.0            0.0   \n",
              "418805                0  ...            0.0            0.0            0.0   \n",
              "...                 ...  ...            ...            ...            ...   \n",
              "122117               20  ...            0.0            0.0            0.0   \n",
              "262465                0  ...            0.0            0.0            0.0   \n",
              "134242                0  ...            0.0            0.0            0.0   \n",
              "149274               18  ...            0.0            0.0            0.0   \n",
              "124220               17  ...            0.0            0.0            0.0   \n",
              "\n",
              "        CWE Flag Count  Fwd Byts/b Avg  Fwd Pkts/b Avg  Fwd Blk Rate Avg  \\\n",
              "589852             0.0             0.0             0.0               0.0   \n",
              "388937             0.0             0.0             0.0               0.0   \n",
              "498659             0.0             0.0             0.0               0.0   \n",
              "221529             0.0             0.0             0.0               0.0   \n",
              "418805             0.0             0.0             0.0               0.0   \n",
              "...                ...             ...             ...               ...   \n",
              "122117             0.0             0.0             0.0               0.0   \n",
              "262465             0.0             0.0             0.0               0.0   \n",
              "134242             0.0             0.0             0.0               0.0   \n",
              "149274             0.0             0.0             0.0               0.0   \n",
              "124220             0.0             0.0             0.0               0.0   \n",
              "\n",
              "        Bwd Byts/b Avg  Bwd Pkts/b Avg  Bwd Blk Rate Avg  \n",
              "589852             0.0             0.0               0.0  \n",
              "388937             0.0             0.0               0.0  \n",
              "498659             0.0             0.0               0.0  \n",
              "221529             0.0             0.0               0.0  \n",
              "418805             0.0             0.0               0.0  \n",
              "...                ...             ...               ...  \n",
              "122117             0.0             0.0               0.0  \n",
              "262465             0.0             0.0               0.0  \n",
              "134242             0.0             0.0               0.0  \n",
              "149274             0.0             0.0               0.0  \n",
              "124220             0.0             0.0               0.0  \n",
              "\n",
              "[745394 rows x 80 columns]"
            ],
            "text/html": [
              "\n",
              "  <div id=\"df-9f264d6c-44bd-4d5d-b428-152bc7de87ca\">\n",
              "    <div class=\"colab-df-container\">\n",
              "      <div>\n",
              "<style scoped>\n",
              "    .dataframe tbody tr th:only-of-type {\n",
              "        vertical-align: middle;\n",
              "    }\n",
              "\n",
              "    .dataframe tbody tr th {\n",
              "        vertical-align: top;\n",
              "    }\n",
              "\n",
              "    .dataframe thead th {\n",
              "        text-align: right;\n",
              "    }\n",
              "</style>\n",
              "<table border=\"1\" class=\"dataframe\">\n",
              "  <thead>\n",
              "    <tr style=\"text-align: right;\">\n",
              "      <th></th>\n",
              "      <th>Dst Port</th>\n",
              "      <th>Protocol</th>\n",
              "      <th>Timestamp</th>\n",
              "      <th>Flow Duration</th>\n",
              "      <th>Tot Fwd Pkts</th>\n",
              "      <th>Tot Bwd Pkts</th>\n",
              "      <th>TotLen Fwd Pkts</th>\n",
              "      <th>TotLen Bwd Pkts</th>\n",
              "      <th>Fwd Pkt Len Max</th>\n",
              "      <th>Fwd Pkt Len Min</th>\n",
              "      <th>...</th>\n",
              "      <th>Bwd PSH Flags</th>\n",
              "      <th>Fwd URG Flags</th>\n",
              "      <th>Bwd URG Flags</th>\n",
              "      <th>CWE Flag Count</th>\n",
              "      <th>Fwd Byts/b Avg</th>\n",
              "      <th>Fwd Pkts/b Avg</th>\n",
              "      <th>Fwd Blk Rate Avg</th>\n",
              "      <th>Bwd Byts/b Avg</th>\n",
              "      <th>Bwd Pkts/b Avg</th>\n",
              "      <th>Bwd Blk Rate Avg</th>\n",
              "    </tr>\n",
              "  </thead>\n",
              "  <tbody>\n",
              "    <tr>\n",
              "      <th>589852</th>\n",
              "      <td>3</td>\n",
              "      <td>1</td>\n",
              "      <td>8586</td>\n",
              "      <td>147680.0</td>\n",
              "      <td>2</td>\n",
              "      <td>1</td>\n",
              "      <td>1</td>\n",
              "      <td>1.0</td>\n",
              "      <td>1</td>\n",
              "      <td>0</td>\n",
              "      <td>...</td>\n",
              "      <td>0.0</td>\n",
              "      <td>0.0</td>\n",
              "      <td>0.0</td>\n",
              "      <td>0.0</td>\n",
              "      <td>0.0</td>\n",
              "      <td>0.0</td>\n",
              "      <td>0.0</td>\n",
              "      <td>0.0</td>\n",
              "      <td>0.0</td>\n",
              "      <td>0.0</td>\n",
              "    </tr>\n",
              "    <tr>\n",
              "      <th>388937</th>\n",
              "      <td>2</td>\n",
              "      <td>0</td>\n",
              "      <td>4494</td>\n",
              "      <td>7893.0</td>\n",
              "      <td>46</td>\n",
              "      <td>11</td>\n",
              "      <td>209</td>\n",
              "      <td>1.0</td>\n",
              "      <td>9</td>\n",
              "      <td>0</td>\n",
              "      <td>...</td>\n",
              "      <td>0.0</td>\n",
              "      <td>0.0</td>\n",
              "      <td>0.0</td>\n",
              "      <td>0.0</td>\n",
              "      <td>0.0</td>\n",
              "      <td>0.0</td>\n",
              "      <td>0.0</td>\n",
              "      <td>0.0</td>\n",
              "      <td>0.0</td>\n",
              "      <td>0.0</td>\n",
              "    </tr>\n",
              "    <tr>\n",
              "      <th>498659</th>\n",
              "      <td>0</td>\n",
              "      <td>0</td>\n",
              "      <td>9414</td>\n",
              "      <td>9684.0</td>\n",
              "      <td>2</td>\n",
              "      <td>1</td>\n",
              "      <td>18</td>\n",
              "      <td>1.0</td>\n",
              "      <td>12</td>\n",
              "      <td>0</td>\n",
              "      <td>...</td>\n",
              "      <td>0.0</td>\n",
              "      <td>0.0</td>\n",
              "      <td>0.0</td>\n",
              "      <td>0.0</td>\n",
              "      <td>0.0</td>\n",
              "      <td>0.0</td>\n",
              "      <td>0.0</td>\n",
              "      <td>0.0</td>\n",
              "      <td>0.0</td>\n",
              "      <td>0.0</td>\n",
              "    </tr>\n",
              "    <tr>\n",
              "      <th>221529</th>\n",
              "      <td>53</td>\n",
              "      <td>2</td>\n",
              "      <td>16070</td>\n",
              "      <td>8832.0</td>\n",
              "      <td>33</td>\n",
              "      <td>2</td>\n",
              "      <td>357</td>\n",
              "      <td>922.0</td>\n",
              "      <td>114</td>\n",
              "      <td>12</td>\n",
              "      <td>...</td>\n",
              "      <td>0.0</td>\n",
              "      <td>0.0</td>\n",
              "      <td>0.0</td>\n",
              "      <td>0.0</td>\n",
              "      <td>0.0</td>\n",
              "      <td>0.0</td>\n",
              "      <td>0.0</td>\n",
              "      <td>0.0</td>\n",
              "      <td>0.0</td>\n",
              "      <td>0.0</td>\n",
              "    </tr>\n",
              "    <tr>\n",
              "      <th>418805</th>\n",
              "      <td>3969</td>\n",
              "      <td>0</td>\n",
              "      <td>1439</td>\n",
              "      <td>1409.0</td>\n",
              "      <td>33</td>\n",
              "      <td>2</td>\n",
              "      <td>1</td>\n",
              "      <td>1.0</td>\n",
              "      <td>1</td>\n",
              "      <td>0</td>\n",
              "      <td>...</td>\n",
              "      <td>0.0</td>\n",
              "      <td>0.0</td>\n",
              "      <td>0.0</td>\n",
              "      <td>0.0</td>\n",
              "      <td>0.0</td>\n",
              "      <td>0.0</td>\n",
              "      <td>0.0</td>\n",
              "      <td>0.0</td>\n",
              "      <td>0.0</td>\n",
              "      <td>0.0</td>\n",
              "    </tr>\n",
              "    <tr>\n",
              "      <th>...</th>\n",
              "      <td>...</td>\n",
              "      <td>...</td>\n",
              "      <td>...</td>\n",
              "      <td>...</td>\n",
              "      <td>...</td>\n",
              "      <td>...</td>\n",
              "      <td>...</td>\n",
              "      <td>...</td>\n",
              "      <td>...</td>\n",
              "      <td>...</td>\n",
              "      <td>...</td>\n",
              "      <td>...</td>\n",
              "      <td>...</td>\n",
              "      <td>...</td>\n",
              "      <td>...</td>\n",
              "      <td>...</td>\n",
              "      <td>...</td>\n",
              "      <td>...</td>\n",
              "      <td>...</td>\n",
              "      <td>...</td>\n",
              "      <td>...</td>\n",
              "    </tr>\n",
              "    <tr>\n",
              "      <th>122117</th>\n",
              "      <td>42</td>\n",
              "      <td>1</td>\n",
              "      <td>207</td>\n",
              "      <td>62017.0</td>\n",
              "      <td>39</td>\n",
              "      <td>3</td>\n",
              "      <td>226</td>\n",
              "      <td>759.0</td>\n",
              "      <td>125</td>\n",
              "      <td>20</td>\n",
              "      <td>...</td>\n",
              "      <td>0.0</td>\n",
              "      <td>0.0</td>\n",
              "      <td>0.0</td>\n",
              "      <td>0.0</td>\n",
              "      <td>0.0</td>\n",
              "      <td>0.0</td>\n",
              "      <td>0.0</td>\n",
              "      <td>0.0</td>\n",
              "      <td>0.0</td>\n",
              "      <td>0.0</td>\n",
              "    </tr>\n",
              "    <tr>\n",
              "      <th>262465</th>\n",
              "      <td>5722</td>\n",
              "      <td>3</td>\n",
              "      <td>68</td>\n",
              "      <td>719.0</td>\n",
              "      <td>39</td>\n",
              "      <td>3</td>\n",
              "      <td>0</td>\n",
              "      <td>0.0</td>\n",
              "      <td>0</td>\n",
              "      <td>0</td>\n",
              "      <td>...</td>\n",
              "      <td>0.0</td>\n",
              "      <td>0.0</td>\n",
              "      <td>0.0</td>\n",
              "      <td>0.0</td>\n",
              "      <td>0.0</td>\n",
              "      <td>0.0</td>\n",
              "      <td>0.0</td>\n",
              "      <td>0.0</td>\n",
              "      <td>0.0</td>\n",
              "      <td>0.0</td>\n",
              "    </tr>\n",
              "    <tr>\n",
              "      <th>134242</th>\n",
              "      <td>9</td>\n",
              "      <td>3</td>\n",
              "      <td>219</td>\n",
              "      <td>67195.0</td>\n",
              "      <td>0</td>\n",
              "      <td>14</td>\n",
              "      <td>620</td>\n",
              "      <td>0.0</td>\n",
              "      <td>21</td>\n",
              "      <td>0</td>\n",
              "      <td>...</td>\n",
              "      <td>0.0</td>\n",
              "      <td>0.0</td>\n",
              "      <td>0.0</td>\n",
              "      <td>0.0</td>\n",
              "      <td>0.0</td>\n",
              "      <td>0.0</td>\n",
              "      <td>0.0</td>\n",
              "      <td>0.0</td>\n",
              "      <td>0.0</td>\n",
              "      <td>0.0</td>\n",
              "    </tr>\n",
              "    <tr>\n",
              "      <th>149274</th>\n",
              "      <td>42</td>\n",
              "      <td>1</td>\n",
              "      <td>232</td>\n",
              "      <td>2276.0</td>\n",
              "      <td>39</td>\n",
              "      <td>3</td>\n",
              "      <td>221</td>\n",
              "      <td>1058.0</td>\n",
              "      <td>158</td>\n",
              "      <td>18</td>\n",
              "      <td>...</td>\n",
              "      <td>0.0</td>\n",
              "      <td>0.0</td>\n",
              "      <td>0.0</td>\n",
              "      <td>0.0</td>\n",
              "      <td>0.0</td>\n",
              "      <td>0.0</td>\n",
              "      <td>0.0</td>\n",
              "      <td>0.0</td>\n",
              "      <td>0.0</td>\n",
              "      <td>0.0</td>\n",
              "    </tr>\n",
              "    <tr>\n",
              "      <th>124220</th>\n",
              "      <td>42</td>\n",
              "      <td>1</td>\n",
              "      <td>461</td>\n",
              "      <td>1088.0</td>\n",
              "      <td>39</td>\n",
              "      <td>3</td>\n",
              "      <td>159</td>\n",
              "      <td>245.0</td>\n",
              "      <td>121</td>\n",
              "      <td>17</td>\n",
              "      <td>...</td>\n",
              "      <td>0.0</td>\n",
              "      <td>0.0</td>\n",
              "      <td>0.0</td>\n",
              "      <td>0.0</td>\n",
              "      <td>0.0</td>\n",
              "      <td>0.0</td>\n",
              "      <td>0.0</td>\n",
              "      <td>0.0</td>\n",
              "      <td>0.0</td>\n",
              "      <td>0.0</td>\n",
              "    </tr>\n",
              "  </tbody>\n",
              "</table>\n",
              "<p>745394 rows × 80 columns</p>\n",
              "</div>\n",
              "      <button class=\"colab-df-convert\" onclick=\"convertToInteractive('df-9f264d6c-44bd-4d5d-b428-152bc7de87ca')\"\n",
              "              title=\"Convert this dataframe to an interactive table.\"\n",
              "              style=\"display:none;\">\n",
              "        \n",
              "  <svg xmlns=\"http://www.w3.org/2000/svg\" height=\"24px\"viewBox=\"0 0 24 24\"\n",
              "       width=\"24px\">\n",
              "    <path d=\"M0 0h24v24H0V0z\" fill=\"none\"/>\n",
              "    <path d=\"M18.56 5.44l.94 2.06.94-2.06 2.06-.94-2.06-.94-.94-2.06-.94 2.06-2.06.94zm-11 1L8.5 8.5l.94-2.06 2.06-.94-2.06-.94L8.5 2.5l-.94 2.06-2.06.94zm10 10l.94 2.06.94-2.06 2.06-.94-2.06-.94-.94-2.06-.94 2.06-2.06.94z\"/><path d=\"M17.41 7.96l-1.37-1.37c-.4-.4-.92-.59-1.43-.59-.52 0-1.04.2-1.43.59L10.3 9.45l-7.72 7.72c-.78.78-.78 2.05 0 2.83L4 21.41c.39.39.9.59 1.41.59.51 0 1.02-.2 1.41-.59l7.78-7.78 2.81-2.81c.8-.78.8-2.07 0-2.86zM5.41 20L4 18.59l7.72-7.72 1.47 1.35L5.41 20z\"/>\n",
              "  </svg>\n",
              "      </button>\n",
              "      \n",
              "  <style>\n",
              "    .colab-df-container {\n",
              "      display:flex;\n",
              "      flex-wrap:wrap;\n",
              "      gap: 12px;\n",
              "    }\n",
              "\n",
              "    .colab-df-convert {\n",
              "      background-color: #E8F0FE;\n",
              "      border: none;\n",
              "      border-radius: 50%;\n",
              "      cursor: pointer;\n",
              "      display: none;\n",
              "      fill: #1967D2;\n",
              "      height: 32px;\n",
              "      padding: 0 0 0 0;\n",
              "      width: 32px;\n",
              "    }\n",
              "\n",
              "    .colab-df-convert:hover {\n",
              "      background-color: #E2EBFA;\n",
              "      box-shadow: 0px 1px 2px rgba(60, 64, 67, 0.3), 0px 1px 3px 1px rgba(60, 64, 67, 0.15);\n",
              "      fill: #174EA6;\n",
              "    }\n",
              "\n",
              "    [theme=dark] .colab-df-convert {\n",
              "      background-color: #3B4455;\n",
              "      fill: #D2E3FC;\n",
              "    }\n",
              "\n",
              "    [theme=dark] .colab-df-convert:hover {\n",
              "      background-color: #434B5C;\n",
              "      box-shadow: 0px 1px 3px 1px rgba(0, 0, 0, 0.15);\n",
              "      filter: drop-shadow(0px 1px 2px rgba(0, 0, 0, 0.3));\n",
              "      fill: #FFFFFF;\n",
              "    }\n",
              "  </style>\n",
              "\n",
              "      <script>\n",
              "        const buttonEl =\n",
              "          document.querySelector('#df-9f264d6c-44bd-4d5d-b428-152bc7de87ca button.colab-df-convert');\n",
              "        buttonEl.style.display =\n",
              "          google.colab.kernel.accessAllowed ? 'block' : 'none';\n",
              "\n",
              "        async function convertToInteractive(key) {\n",
              "          const element = document.querySelector('#df-9f264d6c-44bd-4d5d-b428-152bc7de87ca');\n",
              "          const dataTable =\n",
              "            await google.colab.kernel.invokeFunction('convertToInteractive',\n",
              "                                                     [key], {});\n",
              "          if (!dataTable) return;\n",
              "\n",
              "          const docLinkHtml = 'Like what you see? Visit the ' +\n",
              "            '<a target=\"_blank\" href=https://colab.research.google.com/notebooks/data_table.ipynb>data table notebook</a>'\n",
              "            + ' to learn more about interactive tables.';\n",
              "          element.innerHTML = '';\n",
              "          dataTable['output_type'] = 'display_data';\n",
              "          await google.colab.output.renderOutput(dataTable, element);\n",
              "          const docLink = document.createElement('div');\n",
              "          docLink.innerHTML = docLinkHtml;\n",
              "          element.appendChild(docLink);\n",
              "        }\n",
              "      </script>\n",
              "    </div>\n",
              "  </div>\n",
              "  "
            ]
          },
          "metadata": {}
        }
      ]
    },
    {
      "cell_type": "code",
      "source": [
        "# # Drop the columns from the train and test dataframes\n",
        "train_df = train_df.drop([\"Timestamp\"], axis=1)\n",
        "test_df = test_df.drop([\"Timestamp\"], axis=1)"
      ],
      "metadata": {
        "id": "JjR_hqWH8mQM"
      },
      "execution_count": 14,
      "outputs": []
    },
    {
      "cell_type": "code",
      "source": [
        "X_train = train_df.loc[:, ['Flow Duration', 'Tot Fwd Pkts', 'Tot Bwd Pkts', 'Fwd Pkt Len Max', 'Fwd Pkt Len Mean', 'Fwd Pkt Len Std', 'Bwd Pkt Len Max', 'Bwd Pkt Len Mean', 'Bwd Pkt Len Std', 'Flow Byts/s', 'Flow Pkts/s', 'Flow IAT Mean', 'Flow IAT Std', 'Flow IAT Max', 'Fwd IAT Mean', 'Fwd IAT Std', 'Fwd IAT Max', 'Bwd IAT Mean', 'Bwd IAT Std', 'Bwd IAT Max', 'Fwd Header Len', 'Bwd Header Len', 'Fwd Pkts/s', 'Bwd Pkts/s', 'Pkt Len Max', 'Pkt Len Mean', 'Pkt Len Std', 'Pkt Len Var', 'FIN Flag Cnt', 'SYN Flag Cnt', 'RST Flag Cnt', 'PSH Flag Cnt', 'ACK Flag Cnt', 'URG Flag Cnt', 'CWE Flag Count', 'ECE Flag Cnt', 'Down/Up Ratio', 'Init Fwd Win Byts', 'Init Bwd Win Byts', 'Fwd Seg Size Avg', 'Bwd Seg Size Avg', 'Fwd Byts/b Avg', 'Fwd Pkts/b Avg', 'Fwd Blk Rate Avg', 'Bwd Byts/b Avg', 'Bwd Pkts/b Avg', 'Bwd Blk Rate Avg', 'Subflow Fwd Pkts', 'Subflow Fwd Byts', 'Subflow Bwd Pkts', 'Subflow Bwd Byts', 'Init Fwd Win Byts', 'Init Bwd Win Byts', 'Fwd Act Data Pkts', 'Fwd Seg Size Min', 'Active Mean', 'Active Std', 'Active Max', 'Active Min', 'Idle Mean', 'Idle Std', 'Idle Max', 'Idle Min']]\n",
        "y_train = train_df['Label']\n",
        "X_test = test_df.loc[:, ['Flow Duration', 'Tot Fwd Pkts', 'Tot Bwd Pkts', 'Fwd Pkt Len Max', 'Fwd Pkt Len Mean', 'Fwd Pkt Len Std', 'Bwd Pkt Len Max', 'Bwd Pkt Len Mean', 'Bwd Pkt Len Std', 'Flow Byts/s', 'Flow Pkts/s', 'Flow IAT Mean', 'Flow IAT Std', 'Flow IAT Max', 'Fwd IAT Mean', 'Fwd IAT Std', 'Fwd IAT Max', 'Bwd IAT Mean', 'Bwd IAT Std', 'Bwd IAT Max', 'Fwd Header Len', 'Bwd Header Len', 'Fwd Pkts/s', 'Bwd Pkts/s', 'Pkt Len Max', 'Pkt Len Mean', 'Pkt Len Std', 'Pkt Len Var', 'FIN Flag Cnt', 'SYN Flag Cnt', 'RST Flag Cnt', 'PSH Flag Cnt', 'ACK Flag Cnt', 'URG Flag Cnt', 'CWE Flag Count', 'ECE Flag Cnt', 'Down/Up Ratio', 'Init Fwd Win Byts', 'Init Bwd Win Byts', 'Fwd Seg Size Avg', 'Bwd Seg Size Avg', 'Fwd Byts/b Avg', 'Fwd Pkts/b Avg', 'Fwd Blk Rate Avg', 'Bwd Byts/b Avg', 'Bwd Pkts/b Avg', 'Bwd Blk Rate Avg', 'Subflow Fwd Pkts', 'Subflow Fwd Byts', 'Subflow Bwd Pkts', 'Subflow Bwd Byts', 'Init Fwd Win Byts', 'Init Bwd Win Byts', 'Fwd Act Data Pkts', 'Fwd Seg Size Min', 'Active Mean', 'Active Std', 'Active Max', 'Active Min', 'Idle Mean', 'Idle Std', 'Idle Max', 'Idle Min']]\n",
        "y_test = test_df['Label']"
      ],
      "metadata": {
        "id": "ipVUthKN8o04"
      },
      "execution_count": 15,
      "outputs": []
    },
    {
      "cell_type": "code",
      "source": [
        "import gc\n",
        "import pandas as pd\n",
        "from os import getcwd\n",
        "from glob import glob\n",
        "import numpy as np\n",
        "import matplotlib.pyplot as plt\n",
        "import seaborn as sns"
      ],
      "metadata": {
        "id": "33KJGK-d8rga"
      },
      "execution_count": 16,
      "outputs": []
    },
    {
      "cell_type": "code",
      "source": [
        "from sklearn.decomposition import PCA\n",
        "\n",
        "# Assume X_train is your training feature matrix\n",
        "pca = PCA(n_components=10) # Create a PCA object with 10 components\n",
        "X_train_pca = pca.fit_transform(X_train) # Apply PCA to the training data\n",
        "\n",
        "# Assume X_test is your testing feature matrix\n",
        "X_test_pca = pca.transform(X_test) # Apply PCA to the testing data using the same PCA object"
      ],
      "metadata": {
        "id": "aqx4P8QP8uRl"
      },
      "execution_count": 17,
      "outputs": []
    },
    {
      "cell_type": "code",
      "source": [
        "# Assume pca is your PCA object\n",
        "components = pca.components_\n",
        "\n",
        "# Print the first 10 components\n",
        "print(components[:10])"
      ],
      "metadata": {
        "colab": {
          "base_uri": "https://localhost:8080/"
        },
        "id": "4sd8-RmC8w8W",
        "outputId": "c4d74698-cf83-4b68-c45e-d4abaa14dd17"
      },
      "execution_count": 18,
      "outputs": [
        {
          "output_type": "stream",
          "name": "stdout",
          "text": [
            "[[ 1.83828364e-01 -2.28812038e-05  1.77460741e-05  2.45449688e-04\n",
            "   7.79247611e-03  2.10719145e-02  3.47166907e-05  1.06237876e-02\n",
            "   1.87863655e-02  4.28037431e-01  3.94540297e-01  2.84178331e-01\n",
            "   3.15399973e-01  1.35090170e-01  2.04998910e-01  2.02847857e-01\n",
            "   1.42764883e-01  1.49320103e-01  1.54124267e-01  8.04825553e-02\n",
            "  -3.61248974e-06  5.54065184e-05  3.88223709e-01  3.37116414e-01\n",
            "   7.62195618e-05  2.25076214e-02  4.18673105e-02  3.39740708e-02\n",
            "  -2.86871277e-08 -1.07764130e-07  6.37339672e-08 -3.02831423e-07\n",
            "  -7.40482401e-07 -2.42994491e-07 -5.30411905e-09  6.37515764e-08\n",
            "  -6.46201700e-07 -1.53742698e-04  2.86039798e-04  7.79247611e-03\n",
            "   1.06237876e-02  0.00000000e+00  0.00000000e+00  0.00000000e+00\n",
            "   0.00000000e+00  0.00000000e+00  0.00000000e+00 -2.28812038e-05\n",
            "   9.49195187e-04  1.77460741e-05  1.69998437e-03 -1.53742698e-04\n",
            "   2.86039798e-04  7.25340946e-06 -3.26727641e-06  2.56101925e-02\n",
            "   1.66301560e-02  2.14617441e-02  1.12690436e-02  2.95059468e-02\n",
            "   1.91769810e-02  2.31746321e-02  2.32569874e-02]\n",
            " [ 2.74064569e-01 -6.13919455e-05  3.25247906e-05  9.62442535e-06\n",
            "   3.39513325e-03  8.38378046e-03 -2.45167018e-04  6.75162993e-03\n",
            "   1.24261511e-02 -5.01271186e-01 -2.24652504e-01  3.12813745e-01\n",
            "   2.78354211e-01  1.89020002e-01  3.30215745e-01  2.25375494e-01\n",
            "   2.45433758e-01  1.87065276e-01  1.63555398e-01  1.13313510e-01\n",
            "  -1.25104960e-05  3.06077723e-06 -2.26570047e-01 -2.24490865e-01\n",
            "  -1.72690414e-04 -3.28916159e-02 -3.96603216e-02 -3.69113558e-02\n",
            "   4.72527807e-09  4.79905263e-08 -1.36825207e-06 -1.10410972e-06\n",
            "   2.45146875e-07  4.96716855e-08  3.58570845e-08 -1.36816001e-06\n",
            "   1.98666970e-06  1.90193926e-04  5.30848944e-04  3.39513325e-03\n",
            "   6.75162993e-03  0.00000000e+00  0.00000000e+00  0.00000000e+00\n",
            "   0.00000000e+00  0.00000000e+00  0.00000000e+00 -6.13919455e-05\n",
            "   8.65659198e-04  3.25247906e-05  1.12433323e-03  1.90193926e-04\n",
            "   5.30848944e-04  1.17745109e-05 -6.47688314e-07  4.31663072e-02\n",
            "   2.11183115e-02  3.88079996e-02  2.23466186e-02  5.13509721e-02\n",
            "   2.92454603e-02  4.19293563e-02  4.21057048e-02]\n",
            " [ 1.88926556e-01 -4.77993842e-05 -2.43602365e-05 -7.07007756e-04\n",
            "  -1.67430742e-02 -4.21844535e-02 -2.58389385e-04 -2.18975210e-02\n",
            "  -3.71259904e-02 -5.91316961e-01  4.26385215e-01  6.29023582e-02\n",
            "  -1.47016796e-01  1.21539428e-01  7.01715454e-03 -2.30344646e-01\n",
            "   3.40707144e-02 -2.17566896e-01 -2.69238538e-01 -1.01251574e-01\n",
            "  -5.13386533e-05 -1.87715138e-04  4.37311524e-01  7.16081283e-02\n",
            "  -3.04006537e-04 -2.47402805e-02 -4.79613036e-02 -4.32106276e-02\n",
            "   6.44606346e-08 -1.34756054e-07  1.99176294e-06  1.76151650e-06\n",
            "   1.62251928e-06  7.51333411e-07  1.36803579e-07  1.99183873e-06\n",
            "  -3.62427792e-07  7.08604878e-04 -3.76811270e-04 -1.67430742e-02\n",
            "  -2.18975210e-02 -0.00000000e+00 -0.00000000e+00 -0.00000000e+00\n",
            "  -0.00000000e+00 -0.00000000e+00 -0.00000000e+00 -4.77993842e-05\n",
            "  -2.01987813e-03 -2.43602365e-05 -3.55792151e-03  7.08604878e-04\n",
            "  -3.76811270e-04 -1.31330852e-05  3.03887304e-06 -2.31016914e-02\n",
            "  -2.56507437e-02 -1.39443551e-02 -4.82129471e-03 -1.92050868e-02\n",
            "  -1.68921548e-02 -1.09270054e-02 -1.14474488e-02]\n",
            " [-4.62385252e-01 -5.12608839e-05 -1.60064554e-05 -7.74711429e-04\n",
            "   2.01886993e-02  5.34244244e-02 -5.55974764e-04  1.00049345e-02\n",
            "   2.81951834e-02 -3.15880089e-01  1.96777742e-01 -2.28909118e-01\n",
            "   4.42474266e-01 -2.84624817e-01 -1.34879402e-01  4.41406160e-01\n",
            "  -1.30160837e-01 -1.02501791e-02  1.65044842e-01 -5.54298666e-02\n",
            "  -8.18097951e-05 -1.58391727e-04  1.98051762e-01 -1.02698284e-01\n",
            "  -6.99991602e-04 -6.64661462e-03  3.55036561e-02  1.52309583e-02\n",
            "   9.94067518e-08  5.01002217e-07 -6.15158586e-07 -1.26512048e-06\n",
            "   2.78560237e-06  4.67280748e-07 -6.73771027e-08 -6.15154545e-07\n",
            "   1.31584629e-06  2.65455683e-04  1.20557020e-05  2.01886993e-02\n",
            "   1.00049345e-02 -0.00000000e+00 -0.00000000e+00 -0.00000000e+00\n",
            "  -0.00000000e+00 -0.00000000e+00 -0.00000000e+00 -5.12608839e-05\n",
            "  -1.85753347e-03 -1.60064554e-05 -5.29157732e-03  2.65455683e-04\n",
            "   1.20557020e-05 -3.26552149e-06 -4.33742026e-06 -2.03776102e-02\n",
            "  -5.14143437e-03 -2.74192149e-02 -1.26491205e-02 -1.30790161e-02\n",
            "  -9.88793593e-04 -1.46689968e-02 -1.91478405e-02]\n",
            " [ 3.44319505e-02 -8.80965100e-05 -6.25170216e-05 -2.95887480e-04\n",
            "   8.54378527e-03 -2.58013459e-03  1.37438807e-04 -2.04264190e-02\n",
            "  -3.72677575e-02  3.24096233e-01  8.38863102e-02  6.28330594e-02\n",
            "   2.93351777e-01  1.28737824e-01  6.43616426e-02  4.07008910e-02\n",
            "   1.12246662e-01 -3.73901547e-01 -3.69599218e-01 -1.63693460e-01\n",
            "  -1.80811627e-04 -2.66551968e-04  4.00665076e-02 -6.63872892e-01\n",
            "   3.94101820e-04 -4.67097234e-02 -1.52109867e-02 -6.88110906e-02\n",
            "  -6.95693823e-08  1.67054300e-06  7.45822713e-07  4.27829161e-07\n",
            "   1.90339090e-06 -8.68080864e-07  9.85069886e-08  7.45608723e-07\n",
            "   2.32207604e-07 -1.97991311e-04 -1.03906154e-03  8.54378527e-03\n",
            "  -2.04264190e-02 -0.00000000e+00 -0.00000000e+00 -0.00000000e+00\n",
            "  -0.00000000e+00 -0.00000000e+00 -0.00000000e+00 -8.80965100e-05\n",
            "  -6.45274606e-04 -6.25170216e-05 -3.75722717e-03 -1.97991311e-04\n",
            "  -1.03906154e-03 -7.49288229e-06 -8.11823197e-06 -4.79074918e-02\n",
            "  -3.99066320e-02 -3.86051722e-02 -1.51359249e-02 -1.28788905e-02\n",
            "  -2.90518827e-02 -3.73855961e-03 -7.60587195e-03]\n",
            " [-7.30498161e-02  5.46207008e-05  3.15636216e-05  5.17760628e-04\n",
            "   1.89683163e-02  2.68698037e-02 -9.68174148e-05  1.84501432e-02\n",
            "   3.22858731e-02  4.93936393e-02  1.98249996e-01 -3.66272786e-01\n",
            "  -4.59010064e-01  2.14560803e-01  1.07322825e-01  1.76547472e-01\n",
            "   1.92603912e-01  1.79383766e-01  1.82236076e-01  2.22830598e-01\n",
            "   5.89683335e-05  1.85923233e-04  1.99074005e-01 -3.93707764e-01\n",
            "   3.83870933e-05  7.48498689e-02  1.60814811e-02  8.12729705e-02\n",
            "  -1.48175080e-08  8.90036019e-08 -1.22757991e-06 -1.78672428e-06\n",
            "   1.19703921e-06 -5.24903637e-08  1.27752266e-07 -1.22742511e-06\n",
            "  -1.04983736e-06  9.05361302e-05  3.34525799e-04  1.89683163e-02\n",
            "   1.84501432e-02  0.00000000e+00  0.00000000e+00  0.00000000e+00\n",
            "   0.00000000e+00  0.00000000e+00  0.00000000e+00  5.46207008e-05\n",
            "   2.15305810e-03  3.15636216e-05  5.62795056e-03  9.05361302e-05\n",
            "   3.34525799e-04  1.00764952e-05 -9.66496300e-06  1.33657403e-01\n",
            "   9.03667773e-02  1.14755951e-01  6.47466563e-02  2.06692463e-01\n",
            "   1.09021668e-01  1.75669424e-01  1.67481507e-01]\n",
            " [-4.07920071e-01  3.10070476e-05  3.36316266e-05 -1.68168675e-04\n",
            "   8.03876258e-03  9.94383410e-03  1.69638693e-04 -2.37332829e-03\n",
            "   5.65718009e-03 -5.70195701e-02 -1.05200188e-01 -8.76350551e-02\n",
            "   2.74376762e-01  5.67913146e-01 -2.11694432e-01 -1.56755384e-01\n",
            "   2.40768005e-01 -1.59663432e-01 -1.79496534e-01  2.59789284e-01\n",
            "   3.06652495e-05  2.23632327e-05 -9.33119732e-02  2.74728111e-01\n",
            "  -3.44614159e-05  2.54680336e-02  5.03326420e-02  3.09106002e-02\n",
            "   3.92899155e-08  2.36516309e-07 -2.59293390e-06 -4.77950781e-06\n",
            "  -5.38893775e-07  2.71013382e-07 -1.19434047e-07 -2.59278898e-06\n",
            "  -1.16146305e-06 -1.52867598e-04 -6.27441195e-04  8.03876258e-03\n",
            "  -2.37332829e-03  0.00000000e+00  0.00000000e+00  0.00000000e+00\n",
            "   0.00000000e+00  0.00000000e+00  0.00000000e+00  3.10070476e-05\n",
            "  -8.06295730e-04  3.36316266e-05  6.38015638e-04 -1.52867598e-04\n",
            "  -6.27441195e-04 -1.54466069e-05 -3.80041655e-06  1.71453016e-02\n",
            "   2.58921321e-02  2.76430605e-03  1.67548587e-02  1.64161294e-01\n",
            "   4.09575985e-02  1.67028209e-01  1.21926506e-01]\n",
            " [ 1.42453684e-01 -1.13584483e-04 -2.01338440e-05  1.36002637e-04\n",
            "  -2.47713007e-02 -3.62524786e-02 -6.80771686e-06 -2.20137297e-02\n",
            "  -3.99804402e-02  1.23516344e-02 -3.41777490e-02 -6.69333021e-01\n",
            "   1.86347817e-01 -1.00849937e-01  4.13797647e-01 -1.07550896e-01\n",
            "   3.74166932e-01  6.08573874e-02 -1.09722298e-01  1.01109590e-02\n",
            "  -6.04807417e-05 -1.29382787e-04 -3.30010388e-02  1.68384796e-01\n",
            "   4.97480749e-05 -2.76591273e-02 -4.41178210e-02 -3.26389690e-02\n",
            "  -1.67431636e-08  6.97106667e-07  1.82601208e-06  2.87526343e-06\n",
            "   3.54280106e-07 -3.58924736e-08 -3.11044290e-08  1.82599272e-06\n",
            "  -2.19236342e-06 -4.71892856e-05  3.76072827e-04 -2.47713007e-02\n",
            "  -2.20137297e-02 -0.00000000e+00 -0.00000000e+00 -0.00000000e+00\n",
            "  -0.00000000e+00 -0.00000000e+00 -0.00000000e+00 -1.13584483e-04\n",
            "   1.54073857e-04 -2.01338440e-05 -3.01375331e-03 -4.71892856e-05\n",
            "   3.76072827e-04  1.60813847e-06  2.73757823e-06 -1.28846583e-01\n",
            "  -7.19928894e-02 -1.15061959e-01 -6.45505190e-02 -1.61172943e-01\n",
            "  -9.43338911e-02 -1.32532316e-01 -1.29897181e-01]\n",
            " [ 5.38160481e-01 -1.55487480e-05  1.27122823e-06  3.09556953e-04\n",
            "   1.00823062e-02 -1.53788659e-02  2.47495750e-04 -3.65884580e-02\n",
            "  -3.78265632e-02  4.27203795e-03  2.65477165e-02 -3.02519521e-01\n",
            "   1.60759171e-01  2.95798428e-01 -5.72991484e-01  1.70515230e-01\n",
            "  -2.10355721e-01  1.17236166e-01  8.71365447e-02  1.37176361e-01\n",
            "   3.37486680e-05  1.12204389e-04 -1.46192054e-02 -5.97314635e-02\n",
            "   3.07537891e-04 -6.20643259e-02 -6.54136120e-02 -7.37591497e-02\n",
            "   1.65095338e-09 -2.93481716e-07 -8.32491602e-07 -1.47748788e-06\n",
            "  -3.70945235e-07 -3.43353869e-07 -1.34256227e-07 -8.32352809e-07\n",
            "   2.00203324e-06  1.99200841e-04  2.17878847e-04  1.00823062e-02\n",
            "  -3.65884580e-02 -0.00000000e+00 -0.00000000e+00 -0.00000000e+00\n",
            "  -0.00000000e+00 -0.00000000e+00 -0.00000000e+00 -1.55487480e-05\n",
            "  -1.63566479e-04  1.27122823e-06 -2.59020032e-03  1.99200841e-04\n",
            "   2.17878847e-04 -2.09479605e-05 -1.86295011e-06 -5.56409315e-02\n",
            "  -1.03106885e-01 -1.82060761e-02  2.84658615e-03 -9.22626534e-02\n",
            "  -1.12752889e-01 -5.52729456e-02 -5.24206912e-02]\n",
            " [-5.09417305e-02 -1.31505700e-04  9.03678143e-05  5.85651847e-05\n",
            "   6.70413973e-04 -1.05673086e-02  1.18967976e-05 -4.71484969e-03\n",
            "  -9.75693265e-03  2.32219031e-03  1.22272626e-01  1.90362478e-02\n",
            "   3.20927792e-01 -2.06780760e-01 -7.56327271e-02 -6.12385999e-01\n",
            "  -9.74612409e-02  5.15930807e-01 -7.16487030e-02  2.46293804e-01\n",
            "  -1.03305509e-04 -7.80300746e-05  7.87606935e-02 -2.64218763e-01\n",
            "  -1.01144938e-04 -4.04422171e-02  1.71849991e-02 -4.83031688e-02\n",
            "   9.24819975e-08  2.74449946e-07  1.80780118e-06  2.19705149e-06\n",
            "   1.65930231e-06 -3.68393456e-07 -3.43051460e-08  1.80785906e-06\n",
            "   4.83631136e-06  1.06360772e-04 -3.36852282e-04  6.70413973e-04\n",
            "  -4.71484969e-03 -0.00000000e+00 -0.00000000e+00 -0.00000000e+00\n",
            "  -0.00000000e+00 -0.00000000e+00 -0.00000000e+00 -1.31505700e-04\n",
            "   7.21422396e-04  9.03678143e-05  5.73041657e-03  1.06360772e-04\n",
            "  -3.36852282e-04  2.24834975e-05  3.87274364e-06  1.04582231e-01\n",
            "   5.91849314e-02  9.26882730e-02  4.52838496e-02  4.36261968e-02\n",
            "   7.10229785e-02  2.14352072e-02  3.26409225e-02]]\n"
          ]
        }
      ]
    },
    {
      "cell_type": "code",
      "source": [
        "from keras.models import Sequential\n",
        "from keras.layers import Dense, Dropout\n",
        "from keras.optimizers import Adam\n",
        "\n",
        "# Define the neural network architecture\n",
        "model = Sequential()\n",
        "model.add(Dense(64, activation='relu', input_dim=10))\n",
        "model.add(Dropout(0.5))\n",
        "model.add(Dense(1, activation='sigmoid'))\n",
        "\n",
        "# Compile the model with binary crossentropy loss and Adam optimizer\n",
        "model.compile(loss='binary_crossentropy', optimizer=Adam(lr=0.001), metrics=['accuracy'])\n",
        "\n",
        "# Train the model on the training data and evaluate on the testing data\n",
        "history = model.fit(X_train_pca, y_train, epochs=10, batch_size=32, validation_data=(X_test_pca, y_test))\n",
        "\n",
        "# Print the final testing accuracy\n",
        "score = model.evaluate(X_test_pca, y_test, verbose=0)\n",
        "print('Testing accuracy:', score[1])\n"
      ],
      "metadata": {
        "colab": {
          "base_uri": "https://localhost:8080/"
        },
        "id": "NtNdgy0f8zW0",
        "outputId": "4bb0dbf6-202a-4d92-e9e6-ee297bc874af"
      },
      "execution_count": 19,
      "outputs": [
        {
          "output_type": "stream",
          "name": "stderr",
          "text": [
            "/usr/local/lib/python3.10/dist-packages/keras/optimizers/legacy/adam.py:117: UserWarning: The `lr` argument is deprecated, use `learning_rate` instead.\n",
            "  super().__init__(name, **kwargs)\n"
          ]
        },
        {
          "output_type": "stream",
          "name": "stdout",
          "text": [
            "Epoch 1/10\n",
            "23294/23294 [==============================] - 72s 3ms/step - loss: 147.9896 - accuracy: 0.7336 - val_loss: 1.9889 - val_accuracy: 0.7962\n",
            "Epoch 2/10\n",
            "23294/23294 [==============================] - 72s 3ms/step - loss: 1.8045 - accuracy: 0.7380 - val_loss: 2.3284 - val_accuracy: 0.7978\n",
            "Epoch 3/10\n",
            "23294/23294 [==============================] - 64s 3ms/step - loss: 1.8080 - accuracy: 0.7405 - val_loss: 2.6658 - val_accuracy: 0.8271\n",
            "Epoch 4/10\n",
            "23294/23294 [==============================] - 83s 4ms/step - loss: 1.7891 - accuracy: 0.7398 - val_loss: 1.8191 - val_accuracy: 0.8159\n",
            "Epoch 5/10\n",
            "23294/23294 [==============================] - 73s 3ms/step - loss: 1.7545 - accuracy: 0.7427 - val_loss: 1.3537 - val_accuracy: 0.4750\n",
            "Epoch 6/10\n",
            "23294/23294 [==============================] - 71s 3ms/step - loss: 1.7777 - accuracy: 0.7431 - val_loss: 0.5969 - val_accuracy: 0.8241\n",
            "Epoch 7/10\n",
            "23294/23294 [==============================] - 69s 3ms/step - loss: 1.7563 - accuracy: 0.7398 - val_loss: 0.7770 - val_accuracy: 0.7835\n",
            "Epoch 8/10\n",
            "23294/23294 [==============================] - 67s 3ms/step - loss: 1.7333 - accuracy: 0.7435 - val_loss: 1.1033 - val_accuracy: 0.8239\n",
            "Epoch 9/10\n",
            "23294/23294 [==============================] - 69s 3ms/step - loss: 1.7964 - accuracy: 0.7453 - val_loss: 1.0971 - val_accuracy: 0.7879\n",
            "Epoch 10/10\n",
            "23294/23294 [==============================] - 65s 3ms/step - loss: 1.7004 - accuracy: 0.7431 - val_loss: 1.0626 - val_accuracy: 0.8207\n",
            "Testing accuracy: 0.8206591010093689\n"
          ]
        }
      ]
    },
    {
      "cell_type": "code",
      "source": [
        "from sklearn.metrics import precision_score, recall_score, f1_score\n",
        "\n",
        "# Predict the probabilities for the testing data\n",
        "y_prob = model.predict(X_test_pca)\n",
        "\n",
        "# Convert the probabilities into binary predictions using a threshold value\n",
        "y_pred = (y_prob > 0.5).astype(int)\n",
        "\n",
        "# Calculate the precision, recall, and f1-score\n",
        "precision = precision_score(y_test, y_pred)\n",
        "recall = recall_score(y_test, y_pred)\n",
        "f1 = f1_score(y_test, y_pred)\n",
        "\n",
        "# Print the precision, recall, and f1-score\n",
        "print('Precision:', precision)\n",
        "print('Recall:', recall)\n",
        "print('F1-score:', f1)\n"
      ],
      "metadata": {
        "colab": {
          "base_uri": "https://localhost:8080/"
        },
        "id": "gBgruvBC83t9",
        "outputId": "0e132f21-a706-4d7d-f2e0-b8d3e145c4cf"
      },
      "execution_count": 20,
      "outputs": [
        {
          "output_type": "stream",
          "name": "stdout",
          "text": [
            "5824/5824 [==============================] - 10s 2ms/step\n",
            "Precision: 0.2597603401623502\n",
            "Recall: 0.02088448270503776\n",
            "F1-score: 0.03866068346565412\n"
          ]
        }
      ]
    },
    {
      "cell_type": "code",
      "source": [
        "import matplotlib.pyplot as plt\n",
        "\n",
        "# Plot the training and validation loss\n",
        "plt.plot(history.history['loss'], label='Training Loss')\n",
        "plt.plot(history.history['val_loss'], label='Validation Loss')\n",
        "plt.xlabel('Epoch')\n",
        "plt.ylabel('Loss')\n",
        "plt.legend()\n",
        "plt.show()\n",
        "\n",
        "# Plot the training and validation accuracy\n",
        "plt.plot(history.history['accuracy'], label='Training Accuracy')\n",
        "plt.plot(history.history['val_accuracy'], label='Validation Accuracy')\n",
        "plt.xlabel('Epoch')\n",
        "plt.ylabel('Accuracy')\n",
        "plt.legend()\n",
        "plt.show()"
      ],
      "metadata": {
        "colab": {
          "base_uri": "https://localhost:8080/",
          "height": 881
        },
        "id": "NEXYVrYF9zpT",
        "outputId": "62300fb5-8bc1-45cc-a548-5c68de1d5328"
      },
      "execution_count": 21,
      "outputs": [
        {
          "output_type": "display_data",
          "data": {
            "text/plain": [
              "<Figure size 640x480 with 1 Axes>"
            ],
            "image/png": "[encoded data removed]"
          },
          "metadata": {}
        },
        {
          "output_type": "display_data",
          "data": {
            "text/plain": [
              "<Figure size 640x480 with 1 Axes>"
            ],
            "image/png": "[encoded data removed]"
          },
          "metadata": {}
        }
      ]
    },
    {
      "cell_type": "code",
      "source": [
        "from keras.wrappers.scikit_learn import KerasClassifier\n",
        "from sklearn.model_selection import cross_val_score\n",
        "\n",
        "# Define a function that creates the neural network model\n",
        "def create_model():\n",
        "    model = Sequential()\n",
        "    model.add(Dense(64, activation='relu', input_dim=10))\n",
        "    model.add(Dropout(0.5))\n",
        "    model.add(Dense(1, activation='sigmoid'))\n",
        "    model.compile(loss='binary_crossentropy', optimizer=Adam(lr=0.001), metrics=['accuracy'])\n",
        "    return model\n",
        "\n",
        "# Create a KerasClassifier object that can be used with scikit-learn\n",
        "model = KerasClassifier(build_fn=create_model, epochs=10, batch_size=32, verbose=0)\n",
        "\n",
        "# Calculate 5-fold cross-validation scores\n",
        "cv_scores = cross_val_score(model, X_train_pca, y_train, cv=5)\n",
        "\n",
        "# Print the cross-validation scores and average accuracy\n",
        "print(\"Cross-validation scores:\", cv_scores)\n",
        "print(\"Average accuracy:\", cv_scores.mean())"
      ],
      "metadata": {
        "id": "hqizMmwE_2cO"
      },
      "execution_count": null,
      "outputs": []
    },
    {
      "cell_type": "code",
      "source": [
        "from sklearn.metrics import accuracy_score, precision_score, recall_score, f1_score\n",
        "# Fit the model on the training data\n",
        "model.fit(X_train_pca, y_train)\n",
        "\n",
        "# Predict the labels for the testing data\n",
        "y_pred = model.predict(X_test_pca)\n",
        "\n",
        "# Calculate the testing accuracy, precision, recall, and F1 score\n",
        "accuracy = accuracy_score(y_test, y_pred)\n",
        "precision = precision_score(y_test, y_pred)\n",
        "recall = recall_score(y_test, y_pred)\n",
        "f1 = f1_score(y_test, y_pred)\n",
        "\n",
        "# Print the cross-validation scores, average accuracy, and evaluation metrics\n",
        "print(\"Cross-validation scores:\", cv_scores)\n",
        "print(\"Average accuracy:\", cv_scores.mean())\n",
        "print(\"Testing accuracy:\", accuracy)\n",
        "print(\"Precision:\", precision)\n",
        "print(\"Recall:\", recall)\n",
        "print(\"F1 score:\", f1)"
      ],
      "metadata": {
        "id": "pLhqaL_m_5Nm"
      },
      "execution_count": null,
      "outputs": []
    },
    {
      "cell_type": "code",
      "source": [
        "# Import necessary libraries\n",
        "from sklearn.ensemble import RandomForestClassifier\n",
        "from sklearn.metrics import accuracy_score, precision_score, recall_score, f1_score, roc_auc_score\n",
        "\n",
        "# # Define the input and target variables\n",
        "# X = new_df.drop(['Label'], axis=1)\n",
        "# y = new_df['Label']\n",
        "\n",
        "# # Split the data into training and testing sets\n",
        "# X_train, X_test, y_train, y_test = train_test_split(X, y, test_size=0.2, random_state=42)\n",
        "\n",
        "# Create a random forest classifier\n",
        "rf = RandomForestClassifier(n_estimators=100, random_state=42)\n",
        "\n",
        "# Train the classifier on the training data\n",
        "rf.fit(X_train, y_train)\n",
        "\n",
        "# Test the classifier on the testing data\n",
        "y_pred = rf.predict(X_test)\n",
        "\n",
        "# Evaluate the performance of the classifier\n",
        "accuracy = accuracy_score(y_test, y_pred)\n",
        "precision = precision_score(y_test, y_pred)\n",
        "recall = recall_score(y_test, y_pred)\n",
        "f1 = f1_score(y_test, y_pred)\n",
        "auc = roc_auc_score(y_test, y_pred)\n",
        "\n",
        "print(f'Accuracy: {accuracy:.2f}')\n",
        "print(f'Precision: {precision:.2f}')\n",
        "print(f'Recall: {recall:.2f}')\n",
        "print(f'F1-score: {f1:.2f}')\n",
        "print(f'AUC score: {auc:.2f}')\n"
      ],
      "metadata": {
        "colab": {
          "base_uri": "https://localhost:8080/"
        },
        "id": "awH3e0Wg_7Et",
        "outputId": "02942cf9-5f4c-4f58-dded-fb5cbb2a5542"
      },
      "execution_count": 22,
      "outputs": [
        {
          "output_type": "stream",
          "name": "stdout",
          "text": [
            "Accuracy: 0.90\n",
            "Precision: 0.80\n",
            "Recall: 0.55\n",
            "F1-score: 0.66\n",
            "AUC score: 0.76\n"
          ]
        }
      ]
    },
    {
      "cell_type": "code",
      "source": [
        "from sklearn.ensemble import VotingClassifier, BaggingClassifier, GradientBoostingClassifier, AdaBoostClassifier\n",
        "from sklearn.tree import DecisionTreeClassifier\n",
        "from sklearn.neighbors import KNeighborsClassifier\n",
        "from sklearn.datasets import load_iris\n",
        "from sklearn.model_selection import train_test_split\n",
        "from sklearn.metrics import accuracy_score, precision_score, recall_score, f1_score, roc_auc_score\n",
        "from sklearn.decomposition import PCA\n",
        "\n",
        "# Load the iris dataset\n",
        "iris = load_iris()\n",
        "X, y = iris.data, iris.target\n",
        "\n",
        "# Split the data into training and testing sets\n",
        "X_train, X_test, y_train, y_test = train_test_split(X, y, test_size=0.2, random_state=42)\n",
        "\n",
        "# Apply PCA to reduce the dimensionality of the data\n",
        "pca = PCA(n_components=2)\n",
        "X_train_pca = pca.fit_transform(X_train)\n",
        "X_test_pca = pca.transform(X_test)\n",
        "\n",
        "# Create several classifiers\n",
        "dt = DecisionTreeClassifier(max_depth=3, random_state=42)\n",
        "knn = KNeighborsClassifier(n_neighbors=5)\n",
        "bg = BaggingClassifier(base_estimator=dt, n_estimators=100, random_state=42)\n",
        "gb = GradientBoostingClassifier(n_estimators=100, random_state=42)\n",
        "ab = AdaBoostClassifier(base_estimator=dt, n_estimators=100, random_state=42)\n",
        "\n",
        "# Train each classifier on the reduced data\n",
        "dt.fit(X_train_pca, y_train)\n",
        "knn.fit(X_train_pca, y_train)\n",
        "bg.fit(X_train_pca, y_train)\n",
        "gb.fit(X_train_pca, y_train)\n",
        "ab.fit(X_train_pca, y_train)\n",
        "\n",
        "# Create a voting classifier that combines the predictions of all the classifiers\n",
        "voting_clf = VotingClassifier(estimators=[('dt', dt), ('knn', knn), ('bg', bg), ('gb', gb), ('ab', ab)], voting='hard')\n",
        "\n",
        "# Train the voting classifier on the training data\n",
        "voting_clf.fit(X_train_pca, y_train)\n",
        "\n",
        "# Test the voting classifier on the testing data\n",
        "y_pred = voting_clf.predict(X_test_pca)\n",
        "\n",
        "# Evaluate the accuracy, precision, recall, F1-score, and AUC of the voting classifier\n",
        "accuracy = accuracy_score(y_test, y_pred)\n",
        "precision = precision_score(y_test, y_pred, average='weighted')\n",
        "recall = recall_score(y_test, y_pred, average='weighted')\n",
        "f1 = f1_score(y_test, y_pred, average='weighted')\n",
        "# auc = roc_auc_score(y_test, y_pred, multi_class='ovr')\n",
        "\n",
        "print(f'Accuracy: {accuracy:.2f}')\n",
        "print(f'Precision: {precision:.2f}')\n",
        "print(f'Recall: {recall:.2f}')\n",
        "print(f'F1-score: {f1:.2f}')\n",
        "# print(f'AUC score: {auc:.2f}')\n"
      ],
      "metadata": {
        "colab": {
          "base_uri": "https://localhost:8080/"
        },
        "id": "-M2Oplz__-OM",
        "outputId": "9275a683-13b2-409c-eef7-99acd9ac4d71"
      },
      "execution_count": 23,
      "outputs": [
        {
          "output_type": "stream",
          "name": "stderr",
          "text": [
            "/usr/local/lib/python3.10/dist-packages/sklearn/ensemble/_base.py:166: FutureWarning: `base_estimator` was renamed to `estimator` in version 1.2 and will be removed in 1.4.\n",
            "  warnings.warn(\n",
            "/usr/local/lib/python3.10/dist-packages/sklearn/ensemble/_base.py:166: FutureWarning: `base_estimator` was renamed to `estimator` in version 1.2 and will be removed in 1.4.\n",
            "  warnings.warn(\n",
            "/usr/local/lib/python3.10/dist-packages/sklearn/ensemble/_base.py:166: FutureWarning: `base_estimator` was renamed to `estimator` in version 1.2 and will be removed in 1.4.\n",
            "  warnings.warn(\n",
            "/usr/local/lib/python3.10/dist-packages/sklearn/ensemble/_base.py:166: FutureWarning: `base_estimator` was renamed to `estimator` in version 1.2 and will be removed in 1.4.\n",
            "  warnings.warn(\n"
          ]
        },
        {
          "output_type": "stream",
          "name": "stdout",
          "text": [
            "Accuracy: 0.97\n",
            "Precision: 0.97\n",
            "Recall: 0.97\n",
            "F1-score: 0.97\n"
          ]
        }
      ]
    },
    {
      "cell_type": "code",
      "source": [
        "from sklearn.model_selection import cross_val_score\n",
        "from sklearn.ensemble import VotingClassifier, BaggingClassifier, GradientBoostingClassifier, AdaBoostClassifier\n",
        "from sklearn.tree import DecisionTreeClassifier\n",
        "from sklearn.neighbors import KNeighborsClassifier\n",
        "from sklearn.datasets import load_iris\n",
        "from sklearn.model_selection import train_test_split\n",
        "from sklearn.metrics import accuracy_score, precision_score, recall_score, f1_score, roc_auc_score\n",
        "from sklearn.decomposition import PCA\n",
        "\n",
        "# Load the iris dataset\n",
        "iris = load_iris()\n",
        "X, y = iris.data, iris.target\n",
        "\n",
        "# Split the data into training and testing sets\n",
        "X_train, X_test, y_train, y_test = train_test_split(X, y, test_size=0.2, random_state=42)\n",
        "\n",
        "# Apply PCA to reduce the dimensionality of the data\n",
        "pca = PCA(n_components=2)\n",
        "X_train_pca = pca.fit_transform(X_train)\n",
        "X_test_pca = pca.transform(X_test)\n",
        "\n",
        "# Create several classifiers\n",
        "dt = DecisionTreeClassifier(max_depth=3, random_state=42)\n",
        "knn = KNeighborsClassifier(n_neighbors=5)\n",
        "bg = BaggingClassifier(base_estimator=dt, n_estimators=100, random_state=42)\n",
        "gb = GradientBoostingClassifier(n_estimators=100, random_state=42)\n",
        "ab = AdaBoostClassifier(base_estimator=dt, n_estimators=100, random_state=42)\n",
        "\n",
        "# Train each classifier on the reduced data using cross-validation\n",
        "dt_scores = cross_val_score(dt, X_train_pca, y_train, cv=5, scoring='accuracy')\n",
        "knn_scores = cross_val_score(knn, X_train_pca, y_train, cv=5, scoring='accuracy')\n",
        "bg_scores = cross_val_score(bg, X_train_pca, y_train, cv=5, scoring='accuracy')\n",
        "gb_scores = cross_val_score(gb, X_train_pca, y_train, cv=5, scoring='accuracy')\n",
        "ab_scores = cross_val_score(ab, X_train_pca, y_train, cv=5, scoring='accuracy')\n",
        "\n",
        "# Print the mean and standard deviation of each score\n",
        "print(f'DT accuracy: {dt_scores.mean():.2f} +/- {dt_scores.std():.2f}')\n",
        "print(f'KNN accuracy: {knn_scores.mean():.2f} +/- {knn_scores.std():.2f}')\n",
        "print(f'BG accuracy: {bg_scores.mean():.2f} +/- {bg_scores.std():.2f}')\n",
        "print(f'GB accuracy: {gb_scores.mean():.2f} +/- {gb_scores.std():.2f}')\n",
        "print(f'AB accuracy: {ab_scores.mean():.2f} +/- {ab_scores.std():.2f}')\n",
        "\n",
        "# # Create a voting classifier that combines the predictions of all the classifiers\n",
        "# voting_clf = VotingClassifier(estimators=[('dt', dt), ('knn', knn), ('bg', bg), ('gb', gb), ('ab', ab)], voting='hard')\n",
        "\n",
        "# # Train the voting classifier on the training data\n",
        "# voting_clf.fit(X_train_pca, y_train)\n",
        "\n",
        "# # Test the voting classifier on the testing data\n",
        "# y_pred = voting_clf.predict(X_test_pca)\n",
        "\n",
        "# # Evaluate the accuracy, precision, recall, F1-score, and AUC of the voting classifier\n",
        "# accuracy = cross_val_score(voting_clf, X_train_pca, y_train, cv=5, scoring='accuracy')\n",
        "# precision = cross_val_score(voting_clf, X_train_pca, y_train, cv=5, scoring='precision_weighted')\n",
        "# recall = cross_val_score(voting_clf, X_train_pca, y_train, cv=5, scoring='recall_weighted')\n",
        "# f1 = cross_val_score(voting_clf, X_train_pca, y_train, cv=5, scoring='f1_weighted')\n",
        "\n"
      ],
      "metadata": {
        "colab": {
          "base_uri": "https://localhost:8080/"
        },
        "id": "vWwC8uZ_BvrX",
        "outputId": "8296a47d-175c-4d79-8592-bdaa18040cd2"
      },
      "execution_count": 24,
      "outputs": [
        {
          "output_type": "stream",
          "name": "stderr",
          "text": [
            "/usr/local/lib/python3.10/dist-packages/sklearn/ensemble/_base.py:166: FutureWarning: `base_estimator` was renamed to `estimator` in version 1.2 and will be removed in 1.4.\n",
            "  warnings.warn(\n",
            "/usr/local/lib/python3.10/dist-packages/sklearn/ensemble/_base.py:166: FutureWarning: `base_estimator` was renamed to `estimator` in version 1.2 and will be removed in 1.4.\n",
            "  warnings.warn(\n",
            "/usr/local/lib/python3.10/dist-packages/sklearn/ensemble/_base.py:166: FutureWarning: `base_estimator` was renamed to `estimator` in version 1.2 and will be removed in 1.4.\n",
            "  warnings.warn(\n",
            "/usr/local/lib/python3.10/dist-packages/sklearn/ensemble/_base.py:166: FutureWarning: `base_estimator` was renamed to `estimator` in version 1.2 and will be removed in 1.4.\n",
            "  warnings.warn(\n",
            "/usr/local/lib/python3.10/dist-packages/sklearn/ensemble/_base.py:166: FutureWarning: `base_estimator` was renamed to `estimator` in version 1.2 and will be removed in 1.4.\n",
            "  warnings.warn(\n",
            "/usr/local/lib/python3.10/dist-packages/sklearn/ensemble/_base.py:166: FutureWarning: `base_estimator` was renamed to `estimator` in version 1.2 and will be removed in 1.4.\n",
            "  warnings.warn(\n",
            "/usr/local/lib/python3.10/dist-packages/sklearn/ensemble/_base.py:166: FutureWarning: `base_estimator` was renamed to `estimator` in version 1.2 and will be removed in 1.4.\n",
            "  warnings.warn(\n",
            "/usr/local/lib/python3.10/dist-packages/sklearn/ensemble/_base.py:166: FutureWarning: `base_estimator` was renamed to `estimator` in version 1.2 and will be removed in 1.4.\n",
            "  warnings.warn(\n",
            "/usr/local/lib/python3.10/dist-packages/sklearn/ensemble/_base.py:166: FutureWarning: `base_estimator` was renamed to `estimator` in version 1.2 and will be removed in 1.4.\n",
            "  warnings.warn(\n",
            "/usr/local/lib/python3.10/dist-packages/sklearn/ensemble/_base.py:166: FutureWarning: `base_estimator` was renamed to `estimator` in version 1.2 and will be removed in 1.4.\n",
            "  warnings.warn(\n"
          ]
        },
        {
          "output_type": "stream",
          "name": "stdout",
          "text": [
            "DT accuracy: 0.92 +/- 0.04\n",
            "KNN accuracy: 0.95 +/- 0.06\n",
            "BG accuracy: 0.93 +/- 0.05\n",
            "GB accuracy: 0.93 +/- 0.05\n",
            "AB accuracy: 0.94 +/- 0.04\n"
          ]
        }
      ]
    },
    {
      "cell_type": "code",
      "source": [
        "from sklearn.datasets import load_iris\n",
        "from sklearn.model_selection import train_test_split, cross_val_score\n",
        "from sklearn.naive_bayes import GaussianNB\n",
        "from sklearn.decomposition import PCA\n",
        "from sklearn.metrics import precision_score, recall_score, f1_score\n",
        "\n",
        "# Load the iris dataset\n",
        "iris = load_iris()\n",
        "X, y = iris.data, iris.target\n",
        "\n",
        "# Split the data into training and testing sets\n",
        "X_train, X_test, y_train, y_test = train_test_split(X, y, test_size=0.2, random_state=42)\n",
        "\n",
        "# Perform PCA to reduce the dimensionality of the data\n",
        "pca = PCA(n_components=2)\n",
        "X_train_pca = pca.fit_transform(X_train)\n",
        "X_test_pca = pca.transform(X_test)\n",
        "\n",
        "# Train a Naive Bayes classifier on the reduced data\n",
        "clf = GaussianNB()\n",
        "clf.fit(X_train_pca, y_train)\n",
        "\n",
        "# Evaluate the model using cross-validation\n",
        "cv_accuracy = cross_val_score(clf, X_train_pca, y_train, cv=5, scoring='accuracy')\n",
        "cv_precision = cross_val_score(clf, X_train_pca, y_train, cv=5, scoring='precision_weighted')\n",
        "cv_recall = cross_val_score(clf, X_train_pca, y_train, cv=5, scoring='recall_weighted')\n",
        "cv_f1 = cross_val_score(clf, X_train_pca, y_train, cv=5, scoring='f1_weighted')\n",
        "\n",
        "# Print the mean and standard deviation of each score\n",
        "print(f'CV accuracy: {cv_accuracy.mean():.2f} +/- {cv_accuracy.std():.2f}')\n",
        "print(f'CV precision: {cv_precision.mean():.2f} +/- {cv_precision.std():.2f}')\n",
        "print(f'CV recall: {cv_recall.mean():.2f} +/- {cv_recall.std():.2f}')\n",
        "print(f'CV F1-score: {cv_f1.mean():.2f} +/- {cv_f1.std():.2f}')\n",
        "\n",
        "# Evaluate the model on the testing data\n",
        "y_pred = clf.predict(X_test_pca)\n",
        "accuracy = clf.score(X_test_pca, y_test)\n",
        "precision = precision_score(y_test, y_pred, average='weighted')\n",
        "recall = recall_score(y_test, y_pred, average='weighted')\n",
        "f1 = f1_score(y_test, y_pred, average='weighted')\n",
        "\n",
        "print(f'Testing accuracy: {accuracy:.2f}')\n",
        "print(f'Testing precision: {precision:.2f}')\n",
        "print(f'Testing recall: {recall:.2f}')\n",
        "print(f'Testing F1-score: {f1:.2f}')"
      ],
      "metadata": {
        "colab": {
          "base_uri": "https://localhost:8080/"
        },
        "id": "tiA0wK5vB8vP",
        "outputId": "77bae3f0-1ac4-4121-c880-1c773cc481bd"
      },
      "execution_count": 25,
      "outputs": [
        {
          "output_type": "stream",
          "name": "stdout",
          "text": [
            "CV accuracy: 0.88 +/- 0.05\n",
            "CV precision: 0.89 +/- 0.05\n",
            "CV recall: 0.88 +/- 0.05\n",
            "CV F1-score: 0.87 +/- 0.06\n",
            "Testing accuracy: 0.93\n",
            "Testing precision: 0.93\n",
            "Testing recall: 0.93\n",
            "Testing F1-score: 0.93\n"
          ]
        }
      ]
    },
    {
      "cell_type": "code",
      "source": [
        "# Plot the CV accuracy and testing accuracy\n",
        "plt.plot(cv_accuracy, label='CV Accuracy')\n",
        "plt.axhline(y=accuracy, color='r', label='Testing Accuracy')\n",
        "plt.xlabel('Fold')\n",
        "plt.ylabel('Accuracy')\n",
        "plt.legend()\n",
        "plt.show()"
      ],
      "metadata": {
        "colab": {
          "base_uri": "https://localhost:8080/",
          "height": 449
        },
        "id": "Q7xoWfpZCDj-",
        "outputId": "3ca9610a-fa74-490b-c431-574a14f24c45"
      },
      "execution_count": 26,
      "outputs": [
        {
          "output_type": "display_data",
          "data": {
            "text/plain": [
              "<Figure size 640x480 with 1 Axes>"
            ],
            "image/png": "[encoded data removed]"
          },
          "metadata": {}
        }
      ]
    },
    {
      "cell_type": "code",
      "source": [
        "from sklearn.datasets import load_iris\n",
        "from sklearn.model_selection import train_test_split, cross_val_score\n",
        "from sklearn.svm import SVC\n",
        "from sklearn.decomposition import PCA\n",
        "from sklearn.metrics import accuracy_score, precision_score, recall_score, f1_score\n",
        "\n",
        "# Load the iris dataset\n",
        "iris = load_iris()\n",
        "X, y = iris.data, iris.target\n",
        "\n",
        "# Split the data into training and testing sets\n",
        "X_train, X_test, y_train, y_test = train_test_split(X, y, test_size=0.2, random_state=42)\n",
        "\n",
        "# Perform PCA to reduce the dimensionality of the data\n",
        "pca = PCA(n_components=2)\n",
        "X_train_pca = pca.fit_transform(X_train)\n",
        "X_test_pca = pca.transform(X_test)\n",
        "\n",
        "# Train an SVM classifier on the reduced data\n",
        "clf = SVC(kernel='linear')\n",
        "\n",
        "# Evaluate the model using cross-validation\n",
        "cv_scores = cross_val_score(clf, X_train_pca, y_train, cv=5)\n",
        "\n",
        "# Print the mean cross-validation accuracy and standard deviation\n",
        "print(\"Cross-validation accuracy: %0.2f (+/- %0.2f)\" % (cv_scores.mean(), cv_scores.std() * 2))\n",
        "\n",
        "# Fit the model on the training data\n",
        "clf.fit(X_train_pca, y_train)\n",
        "\n",
        "# Predict the labels of the test data\n",
        "y_pred = clf.predict(X_test_pca)\n",
        "\n",
        "# Calculate the precision, recall, and F1 score on the test data\n",
        "precision = precision_score(y_test, y_pred, average='weighted')\n",
        "recall = recall_score(y_test, y_pred, average='weighted')\n",
        "f1 = f1_score(y_test, y_pred, average='weighted')\n",
        "\n",
        "# Calculate the accuracy on the test data\n",
        "accuracy = accuracy_score(y_test, y_pred)\n",
        "\n",
        "# Print the evaluation metrics\n",
        "print(\"Accuracy:\", accuracy)\n",
        "print(\"Precision:\", precision)\n",
        "print(\"Recall:\", recall)\n",
        "print(\"F1 score:\", f1)\n",
        "\n",
        "\n"
      ],
      "metadata": {
        "colab": {
          "base_uri": "https://localhost:8080/"
        },
        "id": "Sdasd_TkCJNH",
        "outputId": "d069a407-2946-4a8d-db74-cf40be980709"
      },
      "execution_count": 34,
      "outputs": [
        {
          "output_type": "stream",
          "name": "stdout",
          "text": [
            "Cross-validation accuracy: 0.95 (+/- 0.08)\n",
            "Accuracy: 0.9666666666666667\n",
            "Precision: 0.9700000000000001\n",
            "Recall: 0.9666666666666667\n",
            "F1 score: 0.966750208855472\n"
          ]
        }
      ]
    },
    {
      "cell_type": "code",
      "source": [
        "import seaborn as sns\n",
        "import matplotlib.pyplot as plt\n",
        "from sklearn.metrics import confusion_matrix\n",
        "\n",
        "# Define the custom label names\n",
        "label_names = ['Benign', 'Intrusion']\n",
        "\n",
        "# Calculate the confusion matrix\n",
        "cm = confusion_matrix(y_test, y_pred)\n",
        "\n",
        "# Remove the last row from the confusion matrix\n",
        "# cm = cm[:-1, :]\n",
        "\n",
        "# Plot the confusion matrix\n",
        "plt.figure(figsize=(8, 6))\n",
        "sns.heatmap(cm, annot=True, cmap=\"Blues\", fmt=\"d\", xticklabels=label_names, yticklabels=label_names)\n",
        "plt.xlabel('Predicted Labels')\n",
        "plt.ylabel('True Labels')\n",
        "plt.title('Confusion Matrix')\n",
        "plt.show()"
      ],
      "metadata": {
        "colab": {
          "base_uri": "https://localhost:8080/",
          "height": 564
        },
        "id": "FbnNUBMQCNjg",
        "outputId": "3dbd1a6c-36ff-40a7-8942-af8a06ea4011"
      },
      "execution_count": 35,
      "outputs": [
        {
          "output_type": "display_data",
          "data": {
            "text/plain": [
              "<Figure size 800x600 with 2 Axes>"
            ],
            "image/png": "[encoded data removed]"
          },
          "metadata": {}
        }
      ]
    },
    {
      "cell_type": "code",
      "source": [
        "\n",
        "\n"
      ],
      "metadata": {
        "id": "lz2Tg5bJCUlt"
      },
      "execution_count": 41,
      "outputs": []
    }
  ]
}